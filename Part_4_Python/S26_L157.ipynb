{
 "cells": [
  {
   "cell_type": "code",
   "execution_count": 1,
   "metadata": {},
   "outputs": [
    {
     "name": "stdout",
     "output_type": "stream",
     "text": [
      "Average\n",
      "Small\n"
     ]
    }
   ],
   "source": [
    "#Assign 200 to x. Create the following piece of code: If x > 200, print out \"Big\"; If x > 100 and x <= 200, print out \"Average\"; and If x <= 100, print out \"Small\". Use the If, Elif, and Else keywords in your code.\n",
    "def tinh(x):\n",
    "    if x>200:\n",
    "        return \"Big\"\n",
    "    elif x>100 and x<=200: \n",
    "        return \"Average\"\n",
    "    else:\n",
    "        return \"Small\"\n",
    "x=200\n",
    "print(tinh(x))\n",
    "#Change the initial value of x to see how your output will vary.\n",
    "print(tinh(23))"
   ]
  },
  {
   "cell_type": "code",
   "execution_count": 3,
   "metadata": {},
   "outputs": [
    {
     "name": "stdout",
     "output_type": "stream",
     "text": [
      "Small\n",
      "Negative\n"
     ]
    }
   ],
   "source": [
    "#Keep the first two conditions of the previous code. Add a new ELIF statement, so that, eventually, the program prints \"Small\" if x >= 0 and x <= 100, and \"Negative\" if x < 0. Let x carry the value of 50 and then of -50 to check if your code is correct.\n",
    "\n",
    "def tinh(x):\n",
    "    if x>200:\n",
    "        return \"Big\"\n",
    "    elif x>100 and x<=200: \n",
    "        return \"Average\"\n",
    "    elif x>=0 and x<=100:\n",
    "        return \"Small\"\n",
    "    else:\n",
    "        return \"Negative\"\n",
    "print(tinh(50))\n",
    "print(tinh(-50))"
   ]
  }
 ],
 "metadata": {
  "kernelspec": {
   "display_name": "Python 3.9.6 64-bit",
   "language": "python",
   "name": "python3"
  },
  "language_info": {
   "codemirror_mode": {
    "name": "ipython",
    "version": 3
   },
   "file_extension": ".py",
   "mimetype": "text/x-python",
   "name": "python",
   "nbconvert_exporter": "python",
   "pygments_lexer": "ipython3",
   "version": "3.9.6"
  },
  "orig_nbformat": 4,
  "vscode": {
   "interpreter": {
    "hash": "cf92aa13fedf815d5c8dd192b8d835913fde3e8bc926b2a0ad6cc74ef2ba3ca2"
   }
  }
 },
 "nbformat": 4,
 "nbformat_minor": 2
}
