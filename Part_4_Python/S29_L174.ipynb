{
 "cells": [
  {
   "cell_type": "code",
   "execution_count": null,
   "metadata": {},
   "outputs": [],
   "source": [
    "#Create a For loop that will print all the variables from a given list multiplied by 2. Let the list contain all numbers from 1 to 10. Create it with the help of the range() function.\n",
    "for i in range(1,11):\n",
    "    print(i*2)"
   ]
  },
  {
   "cell_type": "code",
   "execution_count": 1,
   "metadata": {},
   "outputs": [
    {
     "name": "stdout",
     "output_type": "stream",
     "text": [
      "1 Even 3 Even 5 Even 7 Even 9 Even 11 Even 13 Even 15 Even 17 Even 19 Even 21 Even 23 Even 25 Even 27 Even 29 Even "
     ]
    }
   ],
   "source": [
    "#Create a little program that runs a loop over all values from 1 to 30. Let it print all Odd numbers, and in the place of the even numbers, it should print \"Even\". Help yourself with the range() function to solve this exercise.\n",
    "for i in range(1,31):\n",
    "    if i%2:\n",
    "        print(i,end=' ')\n",
    "    else:\n",
    "        print(\"Even\", end=' ')"
   ]
  },
  {
   "cell_type": "code",
   "execution_count": 13,
   "metadata": {},
   "outputs": [
    {
     "name": "stdout",
     "output_type": "stream",
     "text": [
      "10 20 30 40 50 60 \n",
      "10 20 30 40 50 60 "
     ]
    }
   ],
   "source": [
    "#You have the following list of numbers. Iterate over this list, printing out each list value multiplied by 10. Find two solutions of this problem.\n",
    "n = [1,2,3,4,5,6]\n",
    "for i in n:\n",
    "    print(i*10, end=' ')\n",
    "print()\n",
    "for i in range(len(n)):\n",
    "    print(n[i]*10,end=' ')"
   ]
  }
 ],
 "metadata": {
  "language_info": {
   "name": "python"
  },
  "orig_nbformat": 4
 },
 "nbformat": 4,
 "nbformat_minor": 2
}
