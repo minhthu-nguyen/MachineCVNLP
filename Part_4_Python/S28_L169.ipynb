{
 "cells": [
  {
   "cell_type": "code",
   "execution_count": 4,
   "metadata": {},
   "outputs": [
    {
     "data": {
      "text/plain": [
       "'Ford'"
      ]
     },
     "execution_count": 4,
     "metadata": {},
     "output_type": "execute_result"
    }
   ],
   "source": [
    "#Create a tuple, called \"Cars\", with elements \"BMW\", \"Dodge\", and \"Ford\".\n",
    "Cars = [\"BMW\", \"Dodge\",\"Ford\"]\n",
    "#Access the second element of this tuple.\n",
    "Cars[2]"
   ]
  },
  {
   "cell_type": "code",
   "execution_count": 10,
   "metadata": {},
   "outputs": [
    {
     "name": "stdout",
     "output_type": "stream",
     "text": [
      "Peter 24\n"
     ]
    }
   ],
   "source": [
    "#Call a method that would allow you to extract the provided name and age separately. Then print the \"name\" and \"age\" values to see if you worked correctly.\n",
    "name, age = 'Peter,24'.split(',')\n",
    "print(name)\n",
    "print(age)"
   ]
  },
  {
   "cell_type": "code",
   "execution_count": 11,
   "metadata": {},
   "outputs": [
    {
     "name": "stdout",
     "output_type": "stream",
     "text": [
      "The Area and the Perimeter:  (20, 24)\n"
     ]
    }
   ],
   "source": [
    "#Create a function that takes as arguments the two values of a rectangle and then returns the Area and the Perimeter of the rectangle. Call the function with arguments 2 and 10 to verify it worked correctly.\n",
    "def rectangle(x,y):\n",
    "    cv=(x+y)*2\n",
    "    dt=x*y\n",
    "    return dt,cv\n",
    "print(\"The Area and the Perimeter: \",rectangle(2,10))"
   ]
  }
 ],
 "metadata": {
  "kernelspec": {
   "display_name": "Python 3.9.12 64-bit",
   "language": "python",
   "name": "python3"
  },
  "language_info": {
   "codemirror_mode": {
    "name": "ipython",
    "version": 3
   },
   "file_extension": ".py",
   "mimetype": "text/x-python",
   "name": "python",
   "nbconvert_exporter": "python",
   "pygments_lexer": "ipython3",
   "version": "3.9.12"
  },
  "orig_nbformat": 4,
  "vscode": {
   "interpreter": {
    "hash": "5179d32cf6ec497baf3f8a3ef987cc77c5d2dc691fdde20a56316522f61a7323"
   }
  }
 },
 "nbformat": 4,
 "nbformat_minor": 2
}
