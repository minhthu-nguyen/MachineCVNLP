{
 "cells": [
  {
   "cell_type": "code",
   "execution_count": 3,
   "metadata": {},
   "outputs": [
    {
     "name": "stdout",
     "output_type": "stream",
     "text": [
      "3 Raised to the power of 2: 9\n"
     ]
    }
   ],
   "source": [
    "#Define a function that states the value of the argument accompanied by the phrase \"Raised to the power of 2:\" and returns a value equal to its argument raised to the power of 2. This time, use a new variable, called \"result\", in the body of the Function. Call the function with some argument to verify it works properly.\n",
    "def power(x):\n",
    "    result=x**2\n",
    "    print(x, \"Raised to the power of 2:\", end=\" \")\n",
    "    return result\n",
    "print(power(3))"
   ]
  },
  {
   "cell_type": "code",
   "execution_count": null,
   "metadata": {},
   "outputs": [],
   "source": []
  }
 ],
 "metadata": {
  "kernelspec": {
   "display_name": "Python 3.9.6 64-bit",
   "language": "python",
   "name": "python3"
  },
  "language_info": {
   "codemirror_mode": {
    "name": "ipython",
    "version": 3
   },
   "file_extension": ".py",
   "mimetype": "text/x-python",
   "name": "python",
   "nbconvert_exporter": "python",
   "pygments_lexer": "ipython3",
   "version": "3.9.6"
  },
  "orig_nbformat": 4,
  "vscode": {
   "interpreter": {
    "hash": "cf92aa13fedf815d5c8dd192b8d835913fde3e8bc926b2a0ad6cc74ef2ba3ca2"
   }
  }
 },
 "nbformat": 4,
 "nbformat_minor": 2
}
