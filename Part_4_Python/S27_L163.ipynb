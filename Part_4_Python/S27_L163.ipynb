{
 "cells": [
  {
   "cell_type": "code",
   "execution_count": 2,
   "metadata": {},
   "outputs": [
    {
     "data": {
      "text/plain": [
       "'Less'"
      ]
     },
     "execution_count": 2,
     "metadata": {},
     "output_type": "execute_result"
    }
   ],
   "source": [
    "#Define a function, called compare_the_two(), with two arguments. If the first one is greater than the second one, let it return \"Greater\". If the second one is greater, it should return \"Less\". Let it return \"Equal\" if the two values are the same number.\n",
    "def compare_the_two(x,y):\n",
    "    if x>y:\n",
    "        return(\"Greater\")\n",
    "    elif y>x:\n",
    "        return(\"Less\") \n",
    "    else:\n",
    "        return(\"Equal\")\n",
    "compare_the_two(3,6)"
   ]
  }
 ],
 "metadata": {
  "kernelspec": {
   "display_name": "Python 3.9.6 64-bit",
   "language": "python",
   "name": "python3"
  },
  "language_info": {
   "codemirror_mode": {
    "name": "ipython",
    "version": 3
   },
   "file_extension": ".py",
   "mimetype": "text/x-python",
   "name": "python",
   "nbconvert_exporter": "python",
   "pygments_lexer": "ipython3",
   "version": "3.9.6"
  },
  "orig_nbformat": 4,
  "vscode": {
   "interpreter": {
    "hash": "cf92aa13fedf815d5c8dd192b8d835913fde3e8bc926b2a0ad6cc74ef2ba3ca2"
   }
  }
 },
 "nbformat": 4,
 "nbformat_minor": 2
}
